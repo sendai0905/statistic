{
 "cells": [
  {
   "cell_type": "code",
   "execution_count": 1,
   "metadata": {},
   "outputs": [
    {
     "name": "stderr",
     "output_type": "stream",
     "text": [
      "Using TensorFlow backend.\n"
     ]
    }
   ],
   "source": [
    "import glob\n",
    "import os\n",
    "from collections import Counter\n",
    "\n",
    "import librosa\n",
    "import librosa.display\n",
    "import matplotlib.pyplot as plt\n",
    "import numpy as np\n",
    "from keras.callbacks import EarlyStopping\n",
    "from keras.layers import Dense, Input, concatenate\n",
    "from keras.layers.recurrent import LSTM\n",
    "from keras.models import Sequential\n",
    "from mutagen.easyid3 import EasyID3"
   ]
  },
  {
   "cell_type": "code",
   "execution_count": 2,
   "metadata": {},
   "outputs": [],
   "source": [
    "def makeArtistList():\n",
    "    path = \"C:/Users/Takumi/Desktop/statistic/data/mp3/composer/\"\n",
    "    l = ['Beethoven', 'Franz Joseph Haydn', 'J.S. Bach']\n",
    "    artist_list = []\n",
    "    for name in l:\n",
    "        print('{} process start.'.format(name))\n",
    "        p = path + name + '/cut/'\n",
    "        file_count = len(os.listdir(p))\n",
    "        l2 = [name] * file_count\n",
    "        artist_list.extend(l2)\n",
    "\n",
    "    counter = Counter(artist_list)\n",
    "    print(counter)\n",
    "    \n",
    "    return artist_list"
   ]
  },
  {
   "cell_type": "code",
   "execution_count": 3,
   "metadata": {},
   "outputs": [
    {
     "name": "stdout",
     "output_type": "stream",
     "text": [
      "Beethoven process start.\n",
      "Franz Joseph Haydn process start.\n",
      "J.S. Bach process start.\n",
      "Counter({'J.S. Bach': 7277, 'Beethoven': 2597, 'Franz Joseph Haydn': 705})\n"
     ]
    }
   ],
   "source": [
    "artist_list = makeArtistList()"
   ]
  },
  {
   "cell_type": "code",
   "execution_count": 5,
   "metadata": {},
   "outputs": [],
   "source": [
    "def readwave(file):\n",
    "    wav, samplerate = librosa.load(file)\n",
    "    return wav, samplerate\n",
    "\n",
    "\n",
    "def MelFilterBank(y, sr):\n",
    "    return librosa.feature.melspectrogram(y=y, sr=sr)"
   ]
  },
  {
   "cell_type": "code",
   "execution_count": 7,
   "metadata": {},
   "outputs": [
    {
     "name": "stdout",
     "output_type": "stream",
     "text": [
      "Beethoven process start.\n",
      "Franz Joseph Haydn process start.\n",
      "J.S. Bach process start.\n",
      "10579\n"
     ]
    }
   ],
   "source": [
    "path = \"C:/Users/Takumi/Desktop/statistic/data/mp3/composer/\"\n",
    "name_list = ['Beethoven', 'Franz Joseph Haydn', 'J.S. Bach']\n",
    "data_list = []\n",
    "for name in name_list:\n",
    "    print('{} process start.'.format(name))\n",
    "    p = path + name + '/cut/'\n",
    "    wav_list = sorted(list(glob.glob(p + \"*.wav\")))\n",
    "    data_list.extend(wav_list)\n",
    "print(len(data_list))"
   ]
  },
  {
   "cell_type": "code",
   "execution_count": null,
   "metadata": {},
   "outputs": [
    {
     "name": "stdout",
     "output_type": "stream",
     "text": [
      "(2, 128, 1292)\n"
     ]
    }
   ],
   "source": [
    "data_x = np.empty([128, 1292])\n",
    "for i in range(len(data_list)):\n",
    "    wav, sr = readwave(data_list[i])\n",
    "#     print(wav.shape)\n",
    "#     print(sr)\n",
    "    t = np.arange(0, len(wav)) / sr\n",
    "    m = MelFilterBank(wav, sr)\n",
    "#     print(m)\n",
    "#     print(m.shape)\n",
    "#     if not i:\n",
    "#         data_x = np.stack([data_x, m], 0)\n",
    "#     else:\n",
    "#         data_x = np.r_[data_x, m]\n",
    "    data_x = np.r_['0, 3, -1', data_x, m]\n",
    "    \n",
    "    if not i % 1000:\n",
    "        print(data_x.shape)"
   ]
  },
  {
   "cell_type": "code",
   "execution_count": null,
   "metadata": {},
   "outputs": [],
   "source": [
    "data_x = np.delete(data_x, 0, 0)"
   ]
  },
  {
   "cell_type": "code",
   "execution_count": null,
   "metadata": {},
   "outputs": [],
   "source": [
    "def makeLSTMmodel(hidden=128, input_shape=(128,)):\n",
    "    model = Sequential()\n",
    "    model.add(LSTM(hidden, input_shape=input_shape))\n",
    "    model.add(Dense(128))\n",
    "    model.compile(loss=\"categorical_crossentropy\", optimezer=\"adam\")\n",
    "    return model"
   ]
  },
  {
   "cell_type": "code",
   "execution_count": null,
   "metadata": {},
   "outputs": [],
   "source": [
    "model = makeLSTMmodel()\n",
    "model.fit(data_x, artist_list, batch_size=64, epochs=50, callbacks=[EarlyStopping(), validation_split=0.2])"
   ]
  },
  {
   "cell_type": "code",
   "execution_count": null,
   "metadata": {},
   "outputs": [],
   "source": []
  }
 ],
 "metadata": {
  "jupytext": {
   "text_representation": {
    "extension": ".py",
    "format_name": "light",
    "format_version": "1.4",
    "jupytext_version": "1.2.4"
   }
  },
  "kernelspec": {
   "display_name": "Python 3",
   "language": "python",
   "name": "python3"
  },
  "language_info": {
   "codemirror_mode": {
    "name": "ipython",
    "version": 3
   },
   "file_extension": ".py",
   "mimetype": "text/x-python",
   "name": "python",
   "nbconvert_exporter": "python",
   "pygments_lexer": "ipython3",
   "version": "3.7.4"
  }
 },
 "nbformat": 4,
 "nbformat_minor": 4
}
