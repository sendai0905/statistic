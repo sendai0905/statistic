{
 "cells": [
  {
   "cell_type": "code",
   "execution_count": 116,
   "metadata": {},
   "outputs": [],
   "source": [
    "import glob\n",
    "import os\n",
    "from collections import Counter\n",
    "\n",
    "import librosa\n",
    "import librosa.display\n",
    "import matplotlib.pyplot as plt\n",
    "import numpy as np\n",
    "from keras import regularizers\n",
    "from keras.callbacks import EarlyStopping, ReduceLROnPlateau\n",
    "from keras.layers import Dense, Dropout, Flatten, Input\n",
    "from keras.layers.recurrent import LSTM\n",
    "from keras.models import Sequential, model_from_json\n",
    "from keras.optimizers import Adam\n",
    "from keras.utils import np_utils\n",
    "from mutagen.easyid3 import EasyID3"
   ]
  },
  {
   "cell_type": "code",
   "execution_count": 31,
   "metadata": {},
   "outputs": [],
   "source": [
    "def makeArtistList():\n",
    "    path = \"/home/Takumi/data/\"\n",
    "    l = ['Beethoven', 'Haydn', 'Bach']\n",
    "    artist_list = []\n",
    "    for i, name in enumerate(l):\n",
    "        print('{} process start.'.format(name))\n",
    "        p = path + name + '/cut/'\n",
    "        file_count = len(os.listdir(p))\n",
    "        l2 = [i] * file_count\n",
    "        artist_list.extend(l2)\n",
    "\n",
    "    counter = Counter(artist_list)\n",
    "    print(counter)\n",
    "    \n",
    "    return artist_list"
   ]
  },
  {
   "cell_type": "code",
   "execution_count": 32,
   "metadata": {},
   "outputs": [
    {
     "name": "stdout",
     "output_type": "stream",
     "text": [
      "Beethoven process start.\n",
      "Haydn process start.\n",
      "Bach process start.\n",
      "Counter({2: 7277, 0: 2597, 1: 705})\n"
     ]
    }
   ],
   "source": [
    "artist_list = makeArtistList()"
   ]
  },
  {
   "cell_type": "code",
   "execution_count": 4,
   "metadata": {},
   "outputs": [],
   "source": [
    "def readwave(file):\n",
    "    wav, samplerate = librosa.load(file)\n",
    "    return wav, samplerate\n",
    "\n",
    "\n",
    "def MelFilterBank(y, sr):\n",
    "    return librosa.feature.melspectrogram(y=y, sr=sr)"
   ]
  },
  {
   "cell_type": "code",
   "execution_count": 5,
   "metadata": {},
   "outputs": [
    {
     "name": "stdout",
     "output_type": "stream",
     "text": [
      "Beethoven process start.\n",
      "Haydn process start.\n",
      "Bach process start.\n",
      "10579\n"
     ]
    }
   ],
   "source": [
    "path = \"/home/Takumi/data/\"\n",
    "name_list = ['Beethoven', 'Haydn', 'Bach']\n",
    "data_list = []\n",
    "for name in name_list:\n",
    "    print('{} process start.'.format(name))\n",
    "    p = path + name + '/cut/'\n",
    "    wav_list = sorted(list(glob.glob(p + \"*.wav\")))\n",
    "    data_list.extend(wav_list)\n",
    "print(len(data_list))"
   ]
  },
  {
   "cell_type": "code",
   "execution_count": 6,
   "metadata": {},
   "outputs": [
    {
     "name": "stdout",
     "output_type": "stream",
     "text": [
      "(2, 128, 1292)\n",
      "(102, 128, 1292)\n",
      "(202, 128, 1292)\n",
      "(302, 128, 1292)\n",
      "(402, 128, 1292)\n",
      "(502, 128, 1292)\n",
      "(602, 128, 1292)\n",
      "(702, 128, 1292)\n",
      "(802, 128, 1292)\n",
      "(902, 128, 1292)\n",
      "(1002, 128, 1292)\n",
      "(1102, 128, 1292)\n",
      "(1202, 128, 1292)\n",
      "(1302, 128, 1292)\n",
      "(1402, 128, 1292)\n",
      "(1502, 128, 1292)\n",
      "(1602, 128, 1292)\n",
      "(1702, 128, 1292)\n",
      "(1802, 128, 1292)\n",
      "(1902, 128, 1292)\n",
      "(2002, 128, 1292)\n",
      "(2102, 128, 1292)\n",
      "(2202, 128, 1292)\n",
      "(2302, 128, 1292)\n",
      "(2402, 128, 1292)\n",
      "(2502, 128, 1292)\n",
      "(2602, 128, 1292)\n",
      "(2702, 128, 1292)\n",
      "(2802, 128, 1292)\n",
      "(2902, 128, 1292)\n",
      "(3002, 128, 1292)\n",
      "(3102, 128, 1292)\n",
      "(3202, 128, 1292)\n",
      "(3302, 128, 1292)\n",
      "(3402, 128, 1292)\n",
      "(3502, 128, 1292)\n",
      "(3602, 128, 1292)\n",
      "(3702, 128, 1292)\n",
      "(3802, 128, 1292)\n",
      "(3902, 128, 1292)\n",
      "(4002, 128, 1292)\n",
      "(4102, 128, 1292)\n",
      "(4202, 128, 1292)\n",
      "(4302, 128, 1292)\n",
      "(4402, 128, 1292)\n",
      "(4502, 128, 1292)\n",
      "(4602, 128, 1292)\n",
      "(4702, 128, 1292)\n",
      "(4802, 128, 1292)\n",
      "(4902, 128, 1292)\n",
      "(5002, 128, 1292)\n",
      "(5102, 128, 1292)\n",
      "(5202, 128, 1292)\n",
      "(5302, 128, 1292)\n",
      "(5402, 128, 1292)\n",
      "(5502, 128, 1292)\n",
      "(5602, 128, 1292)\n",
      "(5702, 128, 1292)\n",
      "(5802, 128, 1292)\n",
      "(5902, 128, 1292)\n",
      "(6002, 128, 1292)\n",
      "(6102, 128, 1292)\n",
      "(6202, 128, 1292)\n",
      "(6302, 128, 1292)\n",
      "(6402, 128, 1292)\n",
      "(6502, 128, 1292)\n",
      "(6602, 128, 1292)\n",
      "(6702, 128, 1292)\n",
      "(6802, 128, 1292)\n",
      "(6902, 128, 1292)\n",
      "(7002, 128, 1292)\n",
      "(7102, 128, 1292)\n",
      "(7202, 128, 1292)\n",
      "(7302, 128, 1292)\n",
      "(7402, 128, 1292)\n",
      "(7502, 128, 1292)\n",
      "(7602, 128, 1292)\n",
      "(7702, 128, 1292)\n",
      "(7802, 128, 1292)\n",
      "(7902, 128, 1292)\n",
      "(8002, 128, 1292)\n",
      "(8102, 128, 1292)\n",
      "(8202, 128, 1292)\n",
      "(8302, 128, 1292)\n",
      "(8402, 128, 1292)\n",
      "(8502, 128, 1292)\n",
      "(8602, 128, 1292)\n",
      "(8702, 128, 1292)\n",
      "(8802, 128, 1292)\n",
      "(8902, 128, 1292)\n",
      "(9002, 128, 1292)\n",
      "(9102, 128, 1292)\n",
      "(9202, 128, 1292)\n",
      "(9302, 128, 1292)\n",
      "(9402, 128, 1292)\n",
      "(9502, 128, 1292)\n",
      "(9602, 128, 1292)\n",
      "(9702, 128, 1292)\n",
      "(9802, 128, 1292)\n",
      "(9902, 128, 1292)\n",
      "(10002, 128, 1292)\n",
      "(10102, 128, 1292)\n",
      "(10202, 128, 1292)\n",
      "(10302, 128, 1292)\n",
      "(10402, 128, 1292)\n",
      "(10502, 128, 1292)\n"
     ]
    }
   ],
   "source": [
    "data_x = np.empty([128, 1292])\n",
    "for i in range(len(data_list)):\n",
    "    wav, sr = readwave(data_list[i])\n",
    "#     print(wav.shape)\n",
    "#     print(sr)\n",
    "    t = np.arange(0, len(wav)) / sr\n",
    "    m = MelFilterBank(wav, sr)\n",
    "#     print(m)\n",
    "#     print(m.shape)\n",
    "#     if not i:\n",
    "#         data_x = np.stack([data_x, m], 0)\n",
    "#     else:\n",
    "#         data_x = np.r_[data_x, m]\n",
    "    data_x = np.r_['0, 3, -1', data_x, m]\n",
    "    \n",
    "    if not i % 100:\n",
    "        print(data_x.shape)"
   ]
  },
  {
   "cell_type": "code",
   "execution_count": 51,
   "metadata": {},
   "outputs": [
    {
     "name": "stdout",
     "output_type": "stream",
     "text": [
      "(10577, 128, 1292)\n"
     ]
    }
   ],
   "source": [
    "data_x = np.delete(data_x, 0, 0)\n",
    "print(data_x.shape)"
   ]
  },
  {
   "cell_type": "code",
   "execution_count": 117,
   "metadata": {},
   "outputs": [],
   "source": [
    "def makeLSTMmodel(hidden=128, input_shape=(128, 1292,)):\n",
    "    model = Sequential()\n",
    "    model.add(LSTM(units=hidden, dropout=0.2, input_shape=input_shape, return_sequences=True))\n",
    "    model.add(LSTM(units=hidden, dropout=0.2, input_shape=input_shape, kernel_regularizer=regularizers.l2(0.001)))\n",
    "    model.add(Dense(3, activation='softmax'))\n",
    "    model.compile(loss=\"categorical_crossentropy\", optimizer=Adam(lr=1e-3), metrics=['accuracy'])\n",
    "    return model"
   ]
  },
  {
   "cell_type": "code",
   "execution_count": 44,
   "metadata": {},
   "outputs": [],
   "source": [
    "data_y = np.array(artist_list)"
   ]
  },
  {
   "cell_type": "code",
   "execution_count": 49,
   "metadata": {},
   "outputs": [
    {
     "name": "stdout",
     "output_type": "stream",
     "text": [
      "(10577, 3)\n"
     ]
    }
   ],
   "source": [
    "# data_y = np.delete(data_y, 0)\n",
    "data_y = np_utils.to_categorical(data_y, 3)\n",
    "print(data_y.shape)"
   ]
  },
  {
   "cell_type": "code",
   "execution_count": 120,
   "metadata": {},
   "outputs": [
    {
     "name": "stdout",
     "output_type": "stream",
     "text": [
      "Model: \"sequential_36\"\n",
      "_________________________________________________________________\n",
      "Layer (type)                 Output Shape              Param #   \n",
      "=================================================================\n",
      "lstm_45 (LSTM)               (None, 128, 128)          727552    \n",
      "_________________________________________________________________\n",
      "lstm_46 (LSTM)               (None, 128)               131584    \n",
      "_________________________________________________________________\n",
      "dense_36 (Dense)             (None, 3)                 387       \n",
      "=================================================================\n",
      "Total params: 859,523\n",
      "Trainable params: 859,523\n",
      "Non-trainable params: 0\n",
      "_________________________________________________________________\n",
      "Train on 8461 samples, validate on 2116 samples\n",
      "Epoch 1/100\n",
      "8461/8461 [==============================] - 67s 8ms/step - loss: 0.7793 - accuracy: 0.6849 - val_loss: 0.1855 - val_accuracy: 0.9598\n",
      "Epoch 2/100\n",
      "8461/8461 [==============================] - 67s 8ms/step - loss: 0.4716 - accuracy: 0.8180 - val_loss: 0.3033 - val_accuracy: 0.8771\n",
      "Epoch 3/100\n",
      "8461/8461 [==============================] - 65s 8ms/step - loss: 0.4052 - accuracy: 0.8417 - val_loss: 0.1279 - val_accuracy: 0.9329\n",
      "Epoch 4/100\n",
      "8461/8461 [==============================] - 67s 8ms/step - loss: 0.3982 - accuracy: 0.8499 - val_loss: 0.7222 - val_accuracy: 0.6848\n",
      "Epoch 5/100\n",
      "8461/8461 [==============================] - 68s 8ms/step - loss: 0.3841 - accuracy: 0.8461 - val_loss: 0.2215 - val_accuracy: 0.8866\n",
      "Epoch 6/100\n",
      "8461/8461 [==============================] - 68s 8ms/step - loss: 0.3493 - accuracy: 0.8635 - val_loss: 0.2569 - val_accuracy: 0.8672\n",
      "Epoch 7/100\n",
      "8461/8461 [==============================] - 66s 8ms/step - loss: 0.2997 - accuracy: 0.8910 - val_loss: 0.3557 - val_accuracy: 0.8270\n",
      "Epoch 8/100\n",
      "8461/8461 [==============================] - 66s 8ms/step - loss: 0.2188 - accuracy: 0.9262 - val_loss: 0.3932 - val_accuracy: 0.8521\n",
      "Epoch 9/100\n",
      "8461/8461 [==============================] - 68s 8ms/step - loss: 0.2179 - accuracy: 0.9272 - val_loss: 0.4259 - val_accuracy: 0.8677\n",
      "Epoch 10/100\n",
      "8461/8461 [==============================] - 65s 8ms/step - loss: 0.1967 - accuracy: 0.9355 - val_loss: 0.2629 - val_accuracy: 0.9159\n",
      "Epoch 11/100\n",
      "8461/8461 [==============================] - 66s 8ms/step - loss: 0.1667 - accuracy: 0.9461 - val_loss: 0.6720 - val_accuracy: 0.7925\n",
      "Epoch 12/100\n",
      "8461/8461 [==============================] - 66s 8ms/step - loss: 0.1566 - accuracy: 0.9501 - val_loss: 0.3364 - val_accuracy: 0.8672\n",
      "Epoch 13/100\n",
      "8461/8461 [==============================] - 72s 8ms/step - loss: 0.1399 - accuracy: 0.9544 - val_loss: 0.6131 - val_accuracy: 0.7949\n"
     ]
    }
   ],
   "source": [
    "model = makeLSTMmodel()\n",
    "model.summary()\n",
    "early_stopping = EarlyStopping(monitor=\"val_loss\", patience=10, mode=\"auto\")\n",
    "# reduce_lr = ReduceLROnPlateau(monitor='val_loss', patience=5, factor=0.5, min_lr=0.0001, verbose=1)\n",
    "# history = model.fit(data_x, data_y, batch_size=64, epochs=100, validation_split=0.2, callbacks=[early_stopping, reduce_lr])\n",
    "history = model.fit(data_x, data_y, batch_size=64, epochs=100, validation_split=0.2, callbacks=[early_stopping])"
   ]
  },
  {
   "cell_type": "code",
   "execution_count": 123,
   "metadata": {},
   "outputs": [],
   "source": [
    "with open('model.json', 'w') as json_file:\n",
    "    json_file.write(model.to_json())\n",
    "model.save_weights('main1.h5')"
   ]
  },
  {
   "cell_type": "code",
   "execution_count": 125,
   "metadata": {},
   "outputs": [
    {
     "name": "stdout",
     "output_type": "stream",
     "text": [
      "Train on 8461 samples, validate on 2116 samples\n",
      "Epoch 1/100\n",
      "8461/8461 [==============================] - 81s 10ms/step - loss: 0.1250 - accuracy: 0.9597 - val_loss: 0.5089 - val_accuracy: 0.8261\n",
      "Epoch 2/100\n",
      "8461/8461 [==============================] - 69s 8ms/step - loss: 0.1054 - accuracy: 0.9677 - val_loss: 0.3383 - val_accuracy: 0.8648\n",
      "Epoch 3/100\n",
      "8461/8461 [==============================] - 65s 8ms/step - loss: 0.1351 - accuracy: 0.9560 - val_loss: 0.4243 - val_accuracy: 0.8370\n",
      "Epoch 4/100\n",
      "8461/8461 [==============================] - 72s 8ms/step - loss: 0.0911 - accuracy: 0.9729 - val_loss: 0.4515 - val_accuracy: 0.8658\n",
      "Epoch 5/100\n",
      "8461/8461 [==============================] - 67s 8ms/step - loss: 0.0823 - accuracy: 0.9759 - val_loss: 0.2779 - val_accuracy: 0.9277\n",
      "Epoch 6/100\n",
      "8461/8461 [==============================] - 65s 8ms/step - loss: 0.0851 - accuracy: 0.9731 - val_loss: 0.4729 - val_accuracy: 0.8696\n",
      "Epoch 7/100\n",
      "8461/8461 [==============================] - 70s 8ms/step - loss: 0.0724 - accuracy: 0.9767 - val_loss: 0.5148 - val_accuracy: 0.8634\n",
      "Epoch 8/100\n",
      "8461/8461 [==============================] - 66s 8ms/step - loss: 0.0715 - accuracy: 0.9794 - val_loss: 0.5961 - val_accuracy: 0.8611\n",
      "Epoch 9/100\n",
      "8461/8461 [==============================] - 66s 8ms/step - loss: 0.0684 - accuracy: 0.9805 - val_loss: 0.5258 - val_accuracy: 0.8412\n",
      "Epoch 10/100\n",
      "8461/8461 [==============================] - 66s 8ms/step - loss: 0.0601 - accuracy: 0.9823 - val_loss: 0.3091 - val_accuracy: 0.9045\n",
      "Epoch 11/100\n",
      "8461/8461 [==============================] - 72s 8ms/step - loss: 0.0592 - accuracy: 0.9835 - val_loss: 0.5509 - val_accuracy: 0.8563\n",
      "Epoch 12/100\n",
      "8461/8461 [==============================] - 67s 8ms/step - loss: 0.0524 - accuracy: 0.9833 - val_loss: 0.3077 - val_accuracy: 0.9116\n",
      "Epoch 13/100\n",
      "8461/8461 [==============================] - 66s 8ms/step - loss: 0.0542 - accuracy: 0.9842 - val_loss: 0.5864 - val_accuracy: 0.8549\n",
      "Epoch 14/100\n",
      "8461/8461 [==============================] - 65s 8ms/step - loss: 0.0375 - accuracy: 0.9901 - val_loss: 0.6805 - val_accuracy: 0.8488\n",
      "Epoch 15/100\n",
      "8461/8461 [==============================] - 71s 8ms/step - loss: 0.0475 - accuracy: 0.9876 - val_loss: 0.5187 - val_accuracy: 0.8757\n"
     ]
    }
   ],
   "source": [
    "model_r = model_from_json(open('model.json', 'r').read())\n",
    "model_r.load_weights('main1.h5')\n",
    "model_r.compile(loss=\"categorical_crossentropy\", optimizer=Adam(lr=1e-3), metrics=['accuracy'])\n",
    "history_r = model_r.fit(data_x, data_y, batch_size=64, epochs=100, validation_split=0.2, callbacks=[early_stopping])"
   ]
  },
  {
   "cell_type": "code",
   "execution_count": 119,
   "metadata": {},
   "outputs": [],
   "source": [
    "del model\n",
    "del early_stopping\n",
    "# del reduce_lr\n",
    "del history"
   ]
  },
  {
   "cell_type": "code",
   "execution_count": 122,
   "metadata": {},
   "outputs": [
    {
     "name": "stdout",
     "output_type": "stream",
     "text": [
      "|            Variable Name|    Memory|\n",
      " ------------------------------------ \n",
      "|                     Adam|      1184|\n",
      "|                  Counter|      1056|\n",
      "|                    Dense|      2000|\n",
      "|                  Dropout|      1464|\n",
      "|            EarlyStopping|      1464|\n",
      "|                  EasyID3|      1056|\n",
      "|                  Flatten|      1464|\n",
      "|                       In|      1072|\n",
      "|                    Input|       136|\n",
      "|                     LSTM|      2000|\n",
      "|            MelFilterBank|       136|\n",
      "|                      Out|       368|\n",
      "|        ReduceLROnPlateau|      1464|\n",
      "|               Sequential|       888|\n",
      "|              artist_list|     84728|\n",
      "|              concatenate|       136|\n",
      "|                data_list|     95320|\n",
      "|                   data_x|13993455744|\n",
      "|                   data_y|       112|\n",
      "|           early_stopping|        56|\n",
      "|                     exit|        56|\n",
      "|              get_ipython|        64|\n",
      "|                     glob|        80|\n",
      "|                  history|        56|\n",
      "|                        i|        28|\n",
      "|                json_file|       216|\n",
      "|                  librosa|        80|\n",
      "|           makeArtistList|       136|\n",
      "|            makeLSTMmodel|       136|\n",
      "|                    model|        56|\n",
      "|          model_from_json|       136|\n",
      "|                  model_r|        56|\n",
      "|                     name|        53|\n",
      "|                name_list|        88|\n",
      "|                       np|        80|\n",
      "|                 np_utils|        80|\n",
      "|                       os|        80|\n",
      "|                        p|        76|\n",
      "|                     path|        67|\n",
      "|             plot_history|       136|\n",
      "|                      plt|        80|\n",
      "|                     quit|        56|\n",
      "|                 readwave|       136|\n",
      "|             regularizers|        80|\n",
      "|                       sr|        28|\n",
      "|                      sys|        80|\n",
      "|                 var_name|        57|\n",
      "|                 wav_list|     65600|\n"
     ]
    }
   ],
   "source": [
    "import sys\n",
    "\n",
    "print(\"{}{: >25}{}{: >10}{}\".format('|','Variable Name','|','Memory','|'))\n",
    "print(\" ------------------------------------ \")\n",
    "for var_name in dir():\n",
    "    if not var_name.startswith(\"_\"):\n",
    "        print(\"{}{: >25}{}{: >10}{}\".format('|',var_name,'|',sys.getsizeof(eval(var_name)),'|'))"
   ]
  },
  {
   "cell_type": "code",
   "execution_count": 107,
   "metadata": {},
   "outputs": [],
   "source": [
    "del m\n",
    "del t\n",
    "del wav"
   ]
  },
  {
   "cell_type": "code",
   "execution_count": 128,
   "metadata": {},
   "outputs": [
    {
     "data": {
      "image/png": "[encoded data removed]",
      "text/plain": [
       "<Figure size 576x720 with 2 Axes>"
      ]
     },
     "metadata": {
      "needs_background": "light"
     },
     "output_type": "display_data"
    },
    {
     "data": {
      "text/plain": [
       "<Figure size 432x288 with 0 Axes>"
      ]
     },
     "metadata": {},
     "output_type": "display_data"
    }
   ],
   "source": [
    "%matplotlib inline\n",
    "\n",
    "def plot_history(history):\n",
    "    plt.figure(figsize=(8, 10))\n",
    "    plt.subplots_adjust(hspace=0.3)\n",
    "    \n",
    "    plt.subplot(2, 1, 1)\n",
    "    plt.plot(history.history['accuracy'], '-', label='accuracy')\n",
    "    plt.plot(history.history['val_accuracy'], '-', label='val_acc')\n",
    "    plt.title('model accuracy')\n",
    "    plt.xlabel('epoch')\n",
    "    plt.ylabel('accuracy')\n",
    "    plt.legend(loc='lower right')\n",
    "    \n",
    "    plt.subplot(2, 1, 2)\n",
    "    plt.plot(history.history['loss'], '-', label='loss')\n",
    "    plt.plot(history.history['val_loss'], '-', label='val_loss')\n",
    "    plt.title('model loss')\n",
    "    plt.xlabel('epoch')\n",
    "    plt.ylabel('loss')\n",
    "    plt.legend(loc='upper right')\n",
    "    \n",
    "    plt.savefig('graph.png')\n",
    "    plt.show()\n",
    "    \n",
    "plot_history(history_r)"
   ]
  },
  {
   "cell_type": "code",
   "execution_count": 129,
   "metadata": {},
   "outputs": [],
   "source": [
    "with open('model.json', 'w') as json_file:\n",
    "    json_file.write(model_r.to_json())\n",
    "model_r.save_weights('main1.h5')"
   ]
  },
  {
   "cell_type": "code",
   "execution_count": null,
   "metadata": {},
   "outputs": [],
   "source": []
  }
 ],
 "metadata": {
  "jupytext": {
   "text_representation": {
    "extension": ".py",
    "format_name": "light",
    "format_version": "1.4",
    "jupytext_version": "1.2.4"
   }
  },
  "kernelspec": {
   "display_name": "Python 3",
   "language": "python",
   "name": "python3"
  },
  "language_info": {
   "codemirror_mode": {
    "name": "ipython",
    "version": 3
   },
   "file_extension": ".py",
   "mimetype": "text/x-python",
   "name": "python",
   "nbconvert_exporter": "python",
   "pygments_lexer": "ipython3",
   "version": "3.7.4"
  }
 },
 "nbformat": 4,
 "nbformat_minor": 4
}