{
 "cells": [
  {
   "cell_type": "code",
   "execution_count": 1,
   "metadata": {},
   "outputs": [
    {
     "name": "stderr",
     "output_type": "stream",
     "text": [
      "Using TensorFlow backend.\n"
     ]
    }
   ],
   "source": [
    "import glob\n",
    "import os\n",
    "from collections import Counter\n",
    "\n",
    "import librosa\n",
    "import librosa.display\n",
    "import matplotlib.pyplot as plt\n",
    "import numpy as np\n",
    "from keras.callbacks import EarlyStopping\n",
    "from keras.layers import Dense, Input, concatenate\n",
    "from keras.layers.recurrent import LSTM\n",
    "from keras.models import Sequential\n",
    "from mutagen.easyid3 import EasyID3"
   ]
  },
  {
   "cell_type": "code",
   "execution_count": 2,
   "metadata": {},
   "outputs": [],
   "source": [
    "def makeArtistList():\n",
    "    path = \"C:/Users/Takumi/Desktop/statistic/data/mp3/composer/\"\n",
    "    l = ['Beethoven', 'Franz Joseph Haydn', 'J.S. Bach']\n",
    "    artist_list = []\n",
    "    for name in l:\n",
    "        print('{} process start.'.format(name))\n",
    "        p = path + name + '/cut/'\n",
    "        file_count = len(os.listdir(p))\n",
    "        l2 = [name] * file_count\n",
    "        artist_list.extend(l2)\n",
    "\n",
    "    counter = Counter(artist_list)\n",
    "    print(counter)\n",
    "    \n",
    "    return artist_list"
   ]
  },
  {
   "cell_type": "code",
   "execution_count": 3,
   "metadata": {},
   "outputs": [
    {
     "name": "stdout",
     "output_type": "stream",
     "text": [
      "Beethoven process start.\n",
      "Franz Joseph Haydn process start.\n",
      "J.S. Bach process start.\n",
      "Counter({'J.S. Bach': 7277, 'Beethoven': 2597, 'Franz Joseph Haydn': 705})\n"
     ]
    }
   ],
   "source": [
    "artist_list = makeArtistList()"
   ]
  },
  {
   "cell_type": "code",
   "execution_count": 5,
   "metadata": {},
   "outputs": [],
   "source": [
    "def readwave(file):\n",
    "    wav, samplerate = librosa.load(file)\n",
    "    return wav, samplerate\n",
    "\n",
    "\n",
    "def MelFilterBank(y, sr):\n",
    "    return librosa.feature.melspectrogram(y=y, sr=sr)"
   ]
  },
  {
   "cell_type": "code",
   "execution_count": 7,
   "metadata": {},
   "outputs": [
    {
     "name": "stdout",
     "output_type": "stream",
     "text": [
      "Beethoven process start.\n",
      "Franz Joseph Haydn process start.\n",
      "J.S. Bach process start.\n",
      "10579\n"
     ]
    }
   ],
   "source": [
    "path = \"C:/Users/Takumi/Desktop/statistic/data/mp3/composer/\"\n",
    "name_list = ['Beethoven', 'Franz Joseph Haydn', 'J.S. Bach']\n",
    "data_list = []\n",
    "for name in name_list:\n",
    "    print('{} process start.'.format(name))\n",
    "    p = path + name + '/cut/'\n",
    "    wav_list = sorted(list(glob.glob(p + \"*.wav\")))\n",
    "    data_list.extend(wav_list)\n",
    "print(len(data_list))"
   ]
  },
  {
   "cell_type": "code",
   "execution_count": null,
   "metadata": {},
   "outputs": [
    {
     "name": "stdout",
     "output_type": "stream",
     "text": [
      "(2, 128, 1292)\n"
     ]
    }
   ],
   "source": [
    "data_x = np.empty([128, 1292])\n",
    "for i in range(len(data_list)):\n",
    "    wav, sr = readwave(data_list[i])\n",
    "#     print(wav.shape)\n",
    "#     print(sr)\n",
    "    t = np.arange(0, len(wav)) / sr\n",
    "    m = MelFilterBank(wav, sr)\n",
    "#     print(m)\n",
    "#     print(m.shape)\n",
    "#     if not i:\n",
    "#         data_x = np.stack([data_x, m], 0)\n",
    "#     else:\n",
    "#         data_x = np.r_[data_x, m]\n",
    "    data_x = np.r_['0, 3, -1', data_x, m]\n",
    "    \n",
    "    if not i % 1000:\n",
    "        print(data_x.shape)"
   ]
  },
  {
   "cell_type": "code",
   "execution_count": 39,
   "metadata": {},
   "outputs": [
    {
     "data": {
      "text/plain": [
       "array([[[0.00000000e+00, 0.00000000e+00, 0.00000000e+00, ...,\n",
       "         0.00000000e+00, 0.00000000e+00, 0.00000000e+00],\n",
       "        [0.00000000e+00, 0.00000000e+00, 0.00000000e+00, ...,\n",
       "         0.00000000e+00, 0.00000000e+00, 0.00000000e+00],\n",
       "        [0.00000000e+00, 0.00000000e+00, 0.00000000e+00, ...,\n",
       "         0.00000000e+00, 0.00000000e+00, 0.00000000e+00],\n",
       "        ...,\n",
       "        [0.00000000e+00, 0.00000000e+00, 0.00000000e+00, ...,\n",
       "         0.00000000e+00, 0.00000000e+00, 0.00000000e+00],\n",
       "        [0.00000000e+00, 0.00000000e+00, 0.00000000e+00, ...,\n",
       "         0.00000000e+00, 0.00000000e+00, 0.00000000e+00],\n",
       "        [0.00000000e+00, 0.00000000e+00, 0.00000000e+00, ...,\n",
       "         0.00000000e+00, 0.00000000e+00, 0.00000000e+00]],\n",
       "\n",
       "       [[0.00000000e+00, 0.00000000e+00, 0.00000000e+00, ...,\n",
       "         1.19270163e-03, 6.24229317e-04, 3.26922573e-02],\n",
       "        [0.00000000e+00, 0.00000000e+00, 0.00000000e+00, ...,\n",
       "         4.57323119e-02, 3.50357145e-02, 2.98469346e-02],\n",
       "        [0.00000000e+00, 0.00000000e+00, 0.00000000e+00, ...,\n",
       "         9.21558663e-02, 4.19065394e-02, 4.89980504e-02],\n",
       "        ...,\n",
       "        [0.00000000e+00, 0.00000000e+00, 0.00000000e+00, ...,\n",
       "         1.23174303e-07, 7.13332042e-08, 1.19818662e-06],\n",
       "        [0.00000000e+00, 0.00000000e+00, 0.00000000e+00, ...,\n",
       "         2.10953743e-08, 1.51592481e-08, 5.75466288e-07],\n",
       "        [0.00000000e+00, 0.00000000e+00, 0.00000000e+00, ...,\n",
       "         2.28483921e-09, 4.91347274e-09, 6.24408045e-08]],\n",
       "\n",
       "       [[1.64064718e-03, 4.73830994e-04, 4.15370705e-05, ...,\n",
       "         4.37712111e-03, 3.54720280e-03, 9.21483412e-02],\n",
       "        [1.40802690e-03, 5.96375030e-04, 5.92118769e-04, ...,\n",
       "         5.96923065e+00, 1.54931390e+00, 1.25935996e+00],\n",
       "        [2.15590466e-03, 2.45498191e-03, 1.44335243e-03, ...,\n",
       "         1.92061291e+01, 4.58821297e+00, 2.52467442e+00],\n",
       "        ...,\n",
       "        [1.96426171e-07, 1.72203784e-07, 1.80107023e-07, ...,\n",
       "         9.16351098e-07, 1.34480956e-06, 1.16782958e-05],\n",
       "        [1.38318981e-07, 5.87400848e-08, 3.97259790e-08, ...,\n",
       "         3.04075655e-07, 3.23786139e-07, 1.02502026e-05],\n",
       "        [1.37612020e-07, 3.52666270e-08, 1.30901412e-09, ...,\n",
       "         1.34862965e-08, 9.98478011e-09, 9.15695182e-06]],\n",
       "\n",
       "       [[1.41579598e-01, 3.82694378e-02, 2.38650665e-03, ...,\n",
       "         3.69182252e-03, 2.62590102e-03, 2.23938659e-01],\n",
       "        [8.78058076e-02, 5.54369725e-02, 5.28597534e-02, ...,\n",
       "         2.27173775e-01, 9.61036012e-02, 2.10956976e-01],\n",
       "        [3.39369535e-01, 3.49096268e-01, 4.66584802e-01, ...,\n",
       "         3.89506847e-01, 1.67904049e-01, 2.78636396e-01],\n",
       "        ...,\n",
       "        [1.40478587e-05, 8.15797193e-06, 6.93542052e-06, ...,\n",
       "         1.01017896e-07, 1.13803566e-07, 1.36280107e-07],\n",
       "        [2.90841108e-05, 9.04674562e-06, 4.25095914e-06, ...,\n",
       "         4.32795240e-08, 5.76022714e-08, 2.20897846e-07],\n",
       "        [3.73788971e-05, 1.15499161e-05, 6.46174203e-06, ...,\n",
       "         1.37372813e-09, 1.88326599e-09, 7.65620769e-07]]])"
      ]
     },
     "execution_count": 39,
     "metadata": {},
     "output_type": "execute_result"
    }
   ],
   "source": []
  },
  {
   "cell_type": "code",
   "execution_count": null,
   "metadata": {},
   "outputs": [],
   "source": []
  }
 ],
 "metadata": {
  "jupytext": {
   "text_representation": {
    "extension": ".py",
    "format_name": "light",
    "format_version": "1.4",
    "jupytext_version": "1.2.4"
   }
  },
  "kernelspec": {
   "display_name": "Python 3",
   "language": "python",
   "name": "python3"
  },
  "language_info": {
   "codemirror_mode": {
    "name": "ipython",
    "version": 3
   },
   "file_extension": ".py",
   "mimetype": "text/x-python",
   "name": "python",
   "nbconvert_exporter": "python",
   "pygments_lexer": "ipython3",
   "version": "3.7.4"
  }
 },
 "nbformat": 4,
 "nbformat_minor": 4
}
